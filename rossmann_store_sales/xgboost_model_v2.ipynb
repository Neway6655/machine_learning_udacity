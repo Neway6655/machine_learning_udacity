{
 "cells": [
  {
   "cell_type": "code",
   "execution_count": 1,
   "metadata": {
    "collapsed": false
   },
   "outputs": [
    {
     "name": "stderr",
     "output_type": "stream",
     "text": [
      "/Users/neway/software/anaconda3/envs/py3/lib/python3.6/site-packages/IPython/core/interactiveshell.py:2717: DtypeWarning: Columns (7) have mixed types. Specify dtype option on import or set low_memory=False.\n",
      "  interactivity=interactivity, compiler=compiler, result=result)\n"
     ]
    }
   ],
   "source": [
    "import pandas as pd\n",
    "import numpy as np\n",
    "\n",
    "train_df = pd.read_csv('data/train.csv')\n",
    "store_df = pd.read_csv('data/store.csv')\n",
    "test_df = pd.read_csv('data/test.csv')"
   ]
  },
  {
   "cell_type": "code",
   "execution_count": 2,
   "metadata": {
    "collapsed": false
   },
   "outputs": [],
   "source": [
    "train_df = train_df.merge(store_df, on='Store', how='left')"
   ]
  },
  {
   "cell_type": "markdown",
   "metadata": {},
   "source": [
    "### Data Clean"
   ]
  },
  {
   "cell_type": "code",
   "execution_count": 4,
   "metadata": {
    "collapsed": false
   },
   "outputs": [
    {
     "name": "stderr",
     "output_type": "stream",
     "text": [
      "/Users/neway/software/anaconda3/envs/py3/lib/python3.6/site-packages/ipykernel/__main__.py:5: SettingWithCopyWarning: \n",
      "A value is trying to be set on a copy of a slice from a DataFrame\n",
      "\n",
      "See the caveats in the documentation: http://pandas.pydata.org/pandas-docs/stable/indexing.html#indexing-view-versus-copy\n",
      "/Users/neway/software/anaconda3/envs/py3/lib/python3.6/site-packages/ipykernel/__main__.py:6: SettingWithCopyWarning: \n",
      "A value is trying to be set on a copy of a slice from a DataFrame\n",
      "\n",
      "See the caveats in the documentation: http://pandas.pydata.org/pandas-docs/stable/indexing.html#indexing-view-versus-copy\n",
      "/Users/neway/software/anaconda3/envs/py3/lib/python3.6/site-packages/ipykernel/__main__.py:7: SettingWithCopyWarning: \n",
      "A value is trying to be set on a copy of a slice from a DataFrame\n",
      "\n",
      "See the caveats in the documentation: http://pandas.pydata.org/pandas-docs/stable/indexing.html#indexing-view-versus-copy\n"
     ]
    }
   ],
   "source": [
    "train_df['Assortment'] = train_df['Assortment'].astype('str')\n",
    "train_df['StoreType'] = train_df['StoreType'].astype('str')\n",
    "train_df['StateHoliday'] = train_df['StateHoliday'].astype('str')\n",
    "\n",
    "train_df[\"CompetitionDistance\"][train_df[\"CompetitionDistance\"].isnull()] = 0\n",
    "train_df[\"CompetitionOpenSinceYear\"][(train_df[\"CompetitionDistance\"] != 0) & (train_df[\"CompetitionOpenSinceYear\"].isnull())] = 1900\n",
    "train_df[\"CompetitionOpenSinceMonth\"][(train_df[\"CompetitionDistance\"] != 0) & (train_df[\"CompetitionOpenSinceMonth\"].isnull())] = 1\n",
    "\n"
   ]
  },
  {
   "cell_type": "code",
   "execution_count": 5,
   "metadata": {
    "collapsed": false
   },
   "outputs": [
    {
     "name": "stdout",
     "output_type": "stream",
     "text": [
      "<class 'pandas.core.frame.DataFrame'>\n",
      "Int64Index: 1017209 entries, 0 to 1017208\n",
      "Data columns (total 18 columns):\n",
      "Store                        1017209 non-null int64\n",
      "DayOfWeek                    1017209 non-null int64\n",
      "Date                         1017209 non-null object\n",
      "Sales                        1017209 non-null int64\n",
      "Customers                    1017209 non-null int64\n",
      "Open                         1017209 non-null int64\n",
      "Promo                        1017209 non-null int64\n",
      "StateHoliday                 1017209 non-null object\n",
      "SchoolHoliday                1017209 non-null int64\n",
      "StoreType                    1017209 non-null object\n",
      "Assortment                   1017209 non-null object\n",
      "CompetitionDistance          1017209 non-null float64\n",
      "CompetitionOpenSinceMonth    1014567 non-null float64\n",
      "CompetitionOpenSinceYear     1014567 non-null float64\n",
      "Promo2                       1017209 non-null int64\n",
      "Promo2SinceWeek              509178 non-null float64\n",
      "Promo2SinceYear              509178 non-null float64\n",
      "PromoInterval                509178 non-null object\n",
      "dtypes: float64(5), int64(8), object(5)\n",
      "memory usage: 147.5+ MB\n"
     ]
    }
   ],
   "source": [
    "train_df.info()"
   ]
  },
  {
   "cell_type": "markdown",
   "metadata": {},
   "source": [
    "### Feature Extraction"
   ]
  },
  {
   "cell_type": "code",
   "execution_count": 6,
   "metadata": {
    "collapsed": false
   },
   "outputs": [],
   "source": [
    "from datetime import datetime, timedelta\n",
    "\n",
    "train_df['Date'] = pd.to_datetime(train_df['Date'])\n",
    "train_df['Year'] = train_df['Date'].dt.year\n",
    "train_df['Month'] = train_df['Date'].dt.month\n",
    "\n",
    "def constructCompetitionDate(row):\n",
    "    year = row[0]\n",
    "    month = row[1]\n",
    "    if year > 0 and month > 0:\n",
    "        year = year.astype(np.int64)\n",
    "        month = month.astype(np.int64)\n",
    "        return datetime(year, month, 1)\n",
    "    else:\n",
    "        return None\n",
    "\n",
    "train_df['CompetitionOpenDate'] = train_df[['CompetitionOpenSinceYear', 'CompetitionOpenSinceMonth']].apply(constructCompetitionDate, axis=1)\n",
    "\n",
    "def dayDiff(row):\n",
    "    if row[0] is None:\n",
    "        return -1\n",
    "    else:\n",
    "        return (row[1] - row[0]).days\n",
    "\n",
    "train_df['DayAfterCompetitionOpen'] = train_df[['CompetitionOpenDate', 'Date']].apply(dayDiff, axis=1)\n"
   ]
  },
  {
   "cell_type": "code",
   "execution_count": 7,
   "metadata": {
    "collapsed": true
   },
   "outputs": [],
   "source": [
    "def constructDatetime(row):\n",
    "    year = row[0]\n",
    "    month = row[1]\n",
    "    if year > 0 and month > 0:\n",
    "        year = year.astype(np.int64)\n",
    "        month = month.astype(np.int64)\n",
    "        return datetime(year, month, 1)\n",
    "    else:\n",
    "        return None\n",
    "\n",
    "train_df['CompetitionOpenMonth'] = train_df[['CompetitionOpenSinceYear', 'CompetitionOpenSinceMonth']].apply(constructDatetime, axis=1)\n",
    "\n",
    "\n",
    "def calculateMonthDiff(row):\n",
    "    if row[1] is None:\n",
    "        return -1\n",
    "    else:\n",
    "        return (row[0].year - row[1].year) * 12 + row[0].month - row[1].month\n",
    "\n",
    "train_df['MonthAfterCompetition'] = train_df[['Date', 'CompetitionOpenMonth']].apply(calculateMonthDiff, axis=1)\n"
   ]
  },
  {
   "cell_type": "code",
   "execution_count": 8,
   "metadata": {
    "collapsed": true
   },
   "outputs": [],
   "source": [
    "train_df['WeekOfYear'] = train_df['Date'].apply(lambda x: x.isocalendar()[1]) \n",
    "\n",
    "train_df['MonthName'] = train_df['Date'].apply(lambda x: x.strftime('%b'))\n",
    "\n",
    "def storePromo2Type(x):\n",
    "    promo2 = x[0]\n",
    "    promo2SinceWeek = x[1]\n",
    "    promo2SinceYear = x[2]\n",
    "    promoInterval = x[3]\n",
    "    salesYear = x[4]\n",
    "    salesWeek = x[5]\n",
    "    salesMonthName = x[6]\n",
    "    \n",
    "    if promo2 == 0:\n",
    "        return 0\n",
    "    if promo2 == 1:\n",
    "        if ((salesYear <= promo2SinceYear) & (salesWeek <= promo2SinceWeek)):\n",
    "            return 1\n",
    "        elif salesMonthName in promoInterval.split(','):\n",
    "            return 2\n",
    "        else:\n",
    "            return 3\n",
    "\n",
    "train_df['promo2Type'] = train_df[['Promo2', 'Promo2SinceWeek', 'Promo2SinceYear', 'PromoInterval', 'Year', 'WeekOfYear', 'MonthName']].apply(storePromo2Type, axis = 1)\n"
   ]
  },
  {
   "cell_type": "markdown",
   "metadata": {},
   "source": [
    "### TrainSet Construct"
   ]
  },
  {
   "cell_type": "code",
   "execution_count": 12,
   "metadata": {
    "collapsed": false
   },
   "outputs": [],
   "source": [
    "train_set_end_date = datetime.strptime('2015-06-18', '%Y-%m-%d')\n",
    "\n",
    "def extract_train_feature_set(df, train_set_end_date):\n",
    "    return df.loc[(df['Sales'] > 0) & (df['Date'] < train_set_end_date)]\n",
    "\n",
    "\n",
    "def feature_last_3m_avg_sales(df, train_set_end_date):\n",
    "    last_3m_date = train_set_end_date - timedelta(days=90)\n",
    "    return df.loc[(df['Date'] < train_set_end_date) & (df['Date'] >= last_3m_date)].groupby('Store').agg({'Sales': 'mean'}).reset_index().rename(columns={'Sales':'store_avg_sales_3m'})\n",
    "\n",
    "def feature_last_6m_avg_sales(df, train_set_end_date):\n",
    "    last_6m_date = train_set_end_date - timedelta(days=180)\n",
    "    return df.loc[(df['Date'] < train_set_end_date) & (df['Date'] >= last_6m_date)].groupby('Store').agg({'Sales': 'mean'}).reset_index().rename(columns={'Sales':'store_avg_sales_6m'})\n",
    "\n",
    "def feature_last_1y_avg_sales(df, train_set_end_date):\n",
    "    last_1y_date = train_set_end_date - timedelta(days=365)\n",
    "    return df.loc[(df['Date'] < train_set_end_date) & (df['Date'] >= last_1y_date)].groupby('Store').agg({'Sales': 'mean'}).reset_index().rename(columns={'Sales':'store_avg_sales_1y'})    \n",
    "\n",
    "    \n",
    "    \n",
    "def feature_last_3m_avg_customers(df, train_set_end_date):\n",
    "    last_3m_date = train_set_end_date - timedelta(days=90)\n",
    "    return df.loc[(df['Date'] < train_set_end_date) & (df['Date'] >= last_3m_date)].groupby('Store').agg({'Customers': 'mean'}).reset_index().rename(columns={'Customers':'store_avg_customers_3m'})\n",
    "\n",
    "def feature_last_6m_avg_customers(df, train_set_end_date):\n",
    "    last_6m_date = train_set_end_date - timedelta(days=180)\n",
    "    return df.loc[(df['Date'] < train_set_end_date) & (df['Date'] >= last_6m_date)].groupby('Store').agg({'Customers': 'mean'}).reset_index().rename(columns={'Customers':'store_avg_customers_6m'})\n",
    "\n",
    "def feature_last_1y_avg_customers(df, train_set_end_date):\n",
    "    last_1y_date = train_set_end_date - timedelta(days=365)\n",
    "    return df.loc[(df['Date'] < train_set_end_date) & (df['Date'] >= last_1y_date)].groupby('Store').agg({'Customers': 'mean'}).reset_index().rename(columns={'Customers':'store_avg_customers_1y'})    \n",
    "\n",
    "\n",
    "\n",
    "def feature_last_3m_store_day_sales(df, train_set_end_date):\n",
    "    last_3m_date = train_set_end_date - timedelta(days=90)\n",
    "    return df.loc[(df['Date'] < train_set_end_date) & (df['Date'] >= last_3m_date)].groupby(['Store', 'DayOfWeek', 'Promo', 'StateHoliday']).agg({'Sales': 'mean'}).reset_index().rename(columns={'Sales':'store_day_avg_sales_3m'})\n",
    "\n",
    "def feature_last_6m_store_day_sales(df, train_set_end_date):\n",
    "    last_6m_date = train_set_end_date - timedelta(days=180)\n",
    "    return df.loc[(df['Date'] < train_set_end_date) & (df['Date'] >= last_6m_date)].groupby(['Store', 'DayOfWeek', 'Promo', 'StateHoliday']).agg({'Sales': 'mean'}).reset_index().rename(columns={'Sales':'store_day_avg_sales_6m'})\n",
    "\n",
    "def feature_last_1y_store_day_sales(df, train_set_end_date):\n",
    "    last_1y_date = train_set_end_date - timedelta(days=365)\n",
    "    return df.loc[(df['Date'] < train_set_end_date) & (df['Date'] >= last_1y_date)].groupby(['Store', 'DayOfWeek', 'Promo', 'StateHoliday']).agg({'Sales': 'mean'}).reset_index().rename(columns={'Sales':'store_day_avg_sales_1y'})\n",
    "    \n",
    "    \n",
    "    \n",
    "def feature_last_3m_store_day_customers(df, train_set_end_date):\n",
    "    last_3m_date = train_set_end_date - timedelta(days=90)\n",
    "    return df.loc[(df['Date'] < train_set_end_date) & (df['Date'] >= last_3m_date)].groupby(['Store', 'DayOfWeek', 'Promo', 'StateHoliday']).agg({'Customers': 'mean'}).reset_index().rename(columns={'Customers':'store_day_avg_customers_3m'})\n",
    "\n",
    "def feature_last_6m_store_day_customers(df, train_set_end_date):\n",
    "    last_6m_date = train_set_end_date - timedelta(days=180)\n",
    "    return df.loc[(df['Date'] < train_set_end_date) & (df['Date'] >= last_6m_date)].groupby(['Store', 'DayOfWeek', 'Promo', 'StateHoliday']).agg({'Customers': 'mean'}).reset_index().rename(columns={'Customers':'store_day_avg_customers_6m'})\n",
    "\n",
    "def feature_last_1y_store_day_customers(df, train_set_end_date):\n",
    "    last_1y_date = train_set_end_date - timedelta(days=365)\n",
    "    return df.loc[(df['Date'] < train_set_end_date) & (df['Date'] >= last_1y_date)].groupby(['Store', 'DayOfWeek', 'Promo', 'StateHoliday']).agg({'Customers': 'mean'}).reset_index().rename(columns={'Customers':'store_day_avg_customers_1y'})\n",
    "    \n",
    "\n",
    "def feature_sales_per_customer(df):\n",
    "    result_df = df.groupby('Store').agg({'Sales': 'sum', 'Customers': 'sum'}).reset_index()\n",
    "    result_df['sales_per_customer'] = result_df['Sales'] / result_df['Customers']\n",
    "    result_df.drop(['Sales', 'Customers'], axis=1, inplace=True)\n",
    "    return result_df\n",
    "\n",
    "\n",
    "\n",
    "feature_df = extract_train_feature_set(train_df, train_set_end_date)\n",
    "avg_sales_3m = feature_last_3m_avg_sales(feature_df, train_set_end_date)\n",
    "avg_sales_6m = feature_last_6m_avg_sales(feature_df, train_set_end_date)\n",
    "avg_sales_1y = feature_last_1y_avg_sales(feature_df, train_set_end_date)\n",
    "avg_customers_3m = feature_last_3m_avg_customers(feature_df, train_set_end_date)\n",
    "avg_customers_6m = feature_last_6m_avg_customers(feature_df, train_set_end_date)\n",
    "avg_customers_1y = feature_last_1y_avg_customers(feature_df, train_set_end_date)\n",
    "store_day_sales_3m = feature_last_3m_store_day_sales(feature_df, train_set_end_date)\n",
    "store_day_sales_6m = feature_last_6m_store_day_sales(feature_df, train_set_end_date)\n",
    "store_day_sales_1y = feature_last_1y_store_day_sales(feature_df, train_set_end_date)\n",
    "store_day_customers_3m = feature_last_3m_store_day_customers(feature_df, train_set_end_date)\n",
    "store_day_customers_6m = feature_last_6m_store_day_customers(feature_df, train_set_end_date)\n",
    "store_day_customers_1y = feature_last_1y_store_day_customers(feature_df, train_set_end_date)\n",
    "sales_per_customer = feature_sales_per_customer(feature_df)"
   ]
  },
  {
   "cell_type": "code",
   "execution_count": 37,
   "metadata": {
    "collapsed": false
   },
   "outputs": [],
   "source": [
    "def prepare_train_set(train_df, train_set_end_date):\n",
    "    return train_df.loc[(train_df['Date'] >= train_set_end_date) & (train_df['Sales'] > 0)]\n",
    "\n",
    "train_val_set = prepare_train_set(train_df, train_set_end_date)\n"
   ]
  },
  {
   "cell_type": "code",
   "execution_count": 38,
   "metadata": {
    "collapsed": false
   },
   "outputs": [
    {
     "data": {
      "text/html": [
       "<div>\n",
       "<style>\n",
       "    .dataframe thead tr:only-child th {\n",
       "        text-align: right;\n",
       "    }\n",
       "\n",
       "    .dataframe thead th {\n",
       "        text-align: left;\n",
       "    }\n",
       "\n",
       "    .dataframe tbody tr th {\n",
       "        vertical-align: top;\n",
       "    }\n",
       "</style>\n",
       "<table border=\"1\" class=\"dataframe\">\n",
       "  <thead>\n",
       "    <tr style=\"text-align: right;\">\n",
       "      <th></th>\n",
       "      <th>Store</th>\n",
       "      <th>DayOfWeek</th>\n",
       "      <th>Date</th>\n",
       "      <th>Sales</th>\n",
       "      <th>Customers</th>\n",
       "      <th>Open</th>\n",
       "      <th>Promo</th>\n",
       "      <th>StateHoliday</th>\n",
       "      <th>SchoolHoliday</th>\n",
       "      <th>StoreType</th>\n",
       "      <th>Assortment</th>\n",
       "      <th>CompetitionDistance</th>\n",
       "      <th>CompetitionOpenSinceMonth</th>\n",
       "      <th>CompetitionOpenSinceYear</th>\n",
       "      <th>Promo2</th>\n",
       "      <th>Promo2SinceWeek</th>\n",
       "      <th>Promo2SinceYear</th>\n",
       "      <th>PromoInterval</th>\n",
       "      <th>Year</th>\n",
       "      <th>Month</th>\n",
       "      <th>CompetitionOpenDate</th>\n",
       "      <th>DayAfterCompetitionOpen</th>\n",
       "      <th>CompetitionOpenMonth</th>\n",
       "      <th>MonthAfterCompetition</th>\n",
       "      <th>WeekOfYear</th>\n",
       "      <th>MonthName</th>\n",
       "      <th>promo2Type</th>\n",
       "      <th>store_avg_sales_3m</th>\n",
       "      <th>store_avg_sales_6m</th>\n",
       "      <th>store_avg_sales_1y</th>\n",
       "      <th>store_avg_customers_3m</th>\n",
       "      <th>store_avg_customers_6m</th>\n",
       "      <th>store_avg_customers_1y</th>\n",
       "      <th>store_day_avg_sales_3m</th>\n",
       "      <th>store_day_avg_sales_6m</th>\n",
       "      <th>store_day_avg_sales_1y</th>\n",
       "      <th>store_day_avg_customers_3m</th>\n",
       "      <th>store_day_avg_customers_6m</th>\n",
       "      <th>store_day_avg_customers_1y</th>\n",
       "      <th>sales_per_customer</th>\n",
       "    </tr>\n",
       "  </thead>\n",
       "  <tbody>\n",
       "    <tr>\n",
       "      <th>0</th>\n",
       "      <td>1</td>\n",
       "      <td>5</td>\n",
       "      <td>2015-07-31</td>\n",
       "      <td>5263</td>\n",
       "      <td>555</td>\n",
       "      <td>1</td>\n",
       "      <td>1</td>\n",
       "      <td>0</td>\n",
       "      <td>1</td>\n",
       "      <td>c</td>\n",
       "      <td>a</td>\n",
       "      <td>1270.0</td>\n",
       "      <td>9.0</td>\n",
       "      <td>2008.0</td>\n",
       "      <td>0</td>\n",
       "      <td>NaN</td>\n",
       "      <td>NaN</td>\n",
       "      <td>NaN</td>\n",
       "      <td>2015</td>\n",
       "      <td>7</td>\n",
       "      <td>2008-09-01</td>\n",
       "      <td>2524.0</td>\n",
       "      <td>2008-09-01</td>\n",
       "      <td>82.0</td>\n",
       "      <td>31</td>\n",
       "      <td>Jul</td>\n",
       "      <td>0</td>\n",
       "      <td>4575.507042</td>\n",
       "      <td>4663.77931</td>\n",
       "      <td>4689.480132</td>\n",
       "      <td>527.732394</td>\n",
       "      <td>548.351724</td>\n",
       "      <td>547.711921</td>\n",
       "      <td>4660.2</td>\n",
       "      <td>4737.0</td>\n",
       "      <td>4980.884615</td>\n",
       "      <td>524.6</td>\n",
       "      <td>544.363636</td>\n",
       "      <td>567.423077</td>\n",
       "      <td>8.427136</td>\n",
       "    </tr>\n",
       "  </tbody>\n",
       "</table>\n",
       "</div>"
      ],
      "text/plain": [
       "   Store  DayOfWeek       Date  Sales  Customers  Open  Promo StateHoliday  \\\n",
       "0      1          5 2015-07-31   5263        555     1      1            0   \n",
       "\n",
       "   SchoolHoliday StoreType Assortment  CompetitionDistance  \\\n",
       "0              1         c          a               1270.0   \n",
       "\n",
       "   CompetitionOpenSinceMonth  CompetitionOpenSinceYear  Promo2  \\\n",
       "0                        9.0                    2008.0       0   \n",
       "\n",
       "   Promo2SinceWeek  Promo2SinceYear PromoInterval  Year  Month  \\\n",
       "0              NaN              NaN           NaN  2015      7   \n",
       "\n",
       "  CompetitionOpenDate  DayAfterCompetitionOpen CompetitionOpenMonth  \\\n",
       "0          2008-09-01                   2524.0           2008-09-01   \n",
       "\n",
       "   MonthAfterCompetition  WeekOfYear MonthName  promo2Type  \\\n",
       "0                   82.0          31       Jul           0   \n",
       "\n",
       "   store_avg_sales_3m  store_avg_sales_6m  store_avg_sales_1y  \\\n",
       "0         4575.507042          4663.77931         4689.480132   \n",
       "\n",
       "   store_avg_customers_3m  store_avg_customers_6m  store_avg_customers_1y  \\\n",
       "0              527.732394              548.351724              547.711921   \n",
       "\n",
       "   store_day_avg_sales_3m  store_day_avg_sales_6m  store_day_avg_sales_1y  \\\n",
       "0                  4660.2                  4737.0             4980.884615   \n",
       "\n",
       "   store_day_avg_customers_3m  store_day_avg_customers_6m  \\\n",
       "0                       524.6                  544.363636   \n",
       "\n",
       "   store_day_avg_customers_1y  sales_per_customer  \n",
       "0                  567.423077            8.427136  "
      ]
     },
     "execution_count": 38,
     "metadata": {},
     "output_type": "execute_result"
    }
   ],
   "source": [
    "train_val_set = train_val_set.merge(avg_sales_3m, how='left', on='Store')\n",
    "train_val_set = train_val_set.merge(avg_sales_6m, how='left', on='Store')\n",
    "train_val_set = train_val_set.merge(avg_sales_1y, how='left', on='Store')\n",
    "train_val_set = train_val_set.merge(avg_customers_3m, how='left', on='Store')\n",
    "train_val_set = train_val_set.merge(avg_customers_6m, how='left', on='Store')\n",
    "train_val_set = train_val_set.merge(avg_customers_1y, how='left', on='Store')\n",
    "train_val_set = train_val_set.merge(store_day_sales_3m, how='left', on=['Store', 'DayOfWeek', 'Promo', 'StateHoliday'])\n",
    "train_val_set = train_val_set.merge(store_day_sales_6m, how='left', on=['Store', 'DayOfWeek', 'Promo', 'StateHoliday'])\n",
    "train_val_set = train_val_set.merge(store_day_sales_1y, how='left', on=['Store', 'DayOfWeek', 'Promo', 'StateHoliday'])\n",
    "train_val_set = train_val_set.merge(store_day_customers_3m, how='left', on=['Store', 'DayOfWeek', 'Promo', 'StateHoliday'])\n",
    "train_val_set = train_val_set.merge(store_day_customers_6m, how='left', on=['Store', 'DayOfWeek', 'Promo', 'StateHoliday'])\n",
    "train_val_set = train_val_set.merge(store_day_customers_1y, how='left', on=['Store', 'DayOfWeek', 'Promo', 'StateHoliday'])\n",
    "train_val_set = train_val_set.merge(sales_per_customer, how='left', on='Store')\n",
    "\n",
    "train_val_set.head(1)"
   ]
  },
  {
   "cell_type": "code",
   "execution_count": 39,
   "metadata": {
    "collapsed": true
   },
   "outputs": [],
   "source": [
    "pd.set_option('display.max_columns', None)\n",
    "\n",
    "import xgboost as xgb\n",
    "\n",
    "categorical_columns = ['DayOfWeek', 'Promo', 'StateHoliday', 'SchoolHoliday', 'StoreType', 'Assortment']\n",
    "\n",
    "for column_name in categorical_columns:\n",
    "    train_val_set[column_name] = train_val_set[column_name].astype('category')\n",
    "\n",
    "cat_columns = train_val_set.select_dtypes(['category']).columns\n",
    "train_val_set[cat_columns] = train_val_set[cat_columns].apply(lambda x: x.cat.codes)\n"
   ]
  },
  {
   "cell_type": "code",
   "execution_count": 40,
   "metadata": {
    "collapsed": true
   },
   "outputs": [],
   "source": [
    "train_val_set['sales_log'] = np.log(train_val_set['Sales'])"
   ]
  },
  {
   "cell_type": "code",
   "execution_count": 41,
   "metadata": {
    "collapsed": false
   },
   "outputs": [],
   "source": [
    "# train_val_set.head()\n",
    "\n",
    "# train_set = train_val_set.loc[train_val_set['Date'] < train_set_end_date]\n",
    "# val_set = train_val_set.loc[train_val_set['Date'] >= train_set_end_date]\n",
    "\n",
    "# print(len(train_set))\n",
    "# print(len(val_set))\n",
    "\n",
    "msk = np.random.rand(len(train_val_set)) < 0.9\n",
    "train_set = train_val_set[msk]\n",
    "val_set = train_val_set[~msk]"
   ]
  },
  {
   "cell_type": "code",
   "execution_count": 42,
   "metadata": {
    "collapsed": false
   },
   "outputs": [
    {
     "name": "stdout",
     "output_type": "stream",
     "text": [
      "[17:49:45] WARNING: /Users/neway/code/xgboost/src/objective/regression_obj.cu:152: reg:linear is now deprecated in favor of reg:squarederror.\n",
      "[17:49:48] WARNING: /Users/neway/code/xgboost/src/objective/regression_obj.cu:152: reg:linear is now deprecated in favor of reg:squarederror.\n",
      "[17:49:51] WARNING: /Users/neway/code/xgboost/src/objective/regression_obj.cu:152: reg:linear is now deprecated in favor of reg:squarederror.\n",
      "[17:49:54] WARNING: /Users/neway/code/xgboost/src/objective/regression_obj.cu:152: reg:linear is now deprecated in favor of reg:squarederror.\n",
      "[17:49:57] WARNING: /Users/neway/code/xgboost/src/objective/regression_obj.cu:152: reg:linear is now deprecated in favor of reg:squarederror.\n",
      "[17:50:00] WARNING: /Users/neway/code/xgboost/src/objective/regression_obj.cu:152: reg:linear is now deprecated in favor of reg:squarederror.\n",
      "[17:50:02] WARNING: /Users/neway/code/xgboost/src/objective/regression_obj.cu:152: reg:linear is now deprecated in favor of reg:squarederror.\n",
      "[17:50:06] WARNING: /Users/neway/code/xgboost/src/objective/regression_obj.cu:152: reg:linear is now deprecated in favor of reg:squarederror.\n",
      "[17:50:09] WARNING: /Users/neway/code/xgboost/src/objective/regression_obj.cu:152: reg:linear is now deprecated in favor of reg:squarederror.\n"
     ]
    }
   ],
   "source": [
    "# grid search\n",
    "from sklearn.model_selection import GridSearchCV\n",
    "from sklearn.model_selection import PredefinedSplit\n",
    "import time\n",
    "\n",
    "xgboost_feature_list = ['DayOfWeek', 'Promo', 'StateHoliday', 'SchoolHoliday', 'StoreType', 'Assortment', \\\n",
    "                        'MonthAfterCompetition', 'CompetitionDistance', 'store_avg_sales_3m', 'store_avg_sales_6m', \\\n",
    "                       'store_avg_sales_1y', 'store_avg_customers_3m', 'store_avg_customers_6m', 'store_avg_customers_1y', \\\n",
    "                       'store_day_avg_sales_3m', 'store_day_avg_sales_6m', 'store_day_avg_sales_1y', 'store_day_avg_customers_3m', \\\n",
    "                       'store_day_avg_customers_6m', 'store_day_avg_customers_1y', 'promo2Type', 'sales_per_customer']\n",
    "\n",
    "# xgboost_feature_list = ['DayOfWeek', 'Promo', 'StateHoliday', 'SchoolHoliday', 'StoreType', 'Assortment', \\\n",
    "#                         'MonthAfterCompetition', 'CompetitionDistance', 'store_day_avg_sales_3m', \\\n",
    "#                         'store_day_avg_sales_6m', 'store_day_avg_sales_1y', 'promo2Type', 'sales_per_customer']\n",
    "\n",
    "\n",
    "xgb_parameters = {'max_depth': [8, 10], \n",
    "                  'learning_rate':[0.1, 0.2],\n",
    "                 }\n",
    "\n",
    "# test_fold = train_df['split_index'].values\n",
    "# ps = PredefinedSplit(test_fold)\n",
    "\n",
    "# train_X = train_df[xgboost_feature_list].values\n",
    "# train_y = train_df['sales_log'].values\n",
    "\n",
    "# results = []\n",
    "# num_threads = [1, 2]\n",
    "# for n in num_threads:\n",
    "#     start = time.time()\n",
    "#     model = xgb.XGBRegressor(n_jobs=n)\n",
    "#     model.fit(train_X, train_y)\n",
    "#     elapsed = time.time() - start\n",
    "#     print(n, elapsed)\n",
    "#     results.append(elapsed)\n",
    "\n",
    "xgb_model = xgb.XGBRegressor(n_jobs=5, n_estimators=100)\n",
    "\n",
    "train_X = train_set[xgboost_feature_list].values\n",
    "train_y = train_set['sales_log'].values\n",
    "\n",
    "clf = GridSearchCV(xgb_model, xgb_parameters, cv=2, scoring='neg_mean_squared_error')\n",
    "clf.fit(train_X, train_y)\n",
    "\n",
    "best_model = clf.best_estimator_"
   ]
  },
  {
   "cell_type": "code",
   "execution_count": 43,
   "metadata": {
    "collapsed": false
   },
   "outputs": [
    {
     "data": {
      "text/plain": [
       "XGBRegressor(base_score=0.5, booster='gbtree', colsample_bylevel=1,\n",
       "       colsample_bynode=1, colsample_bytree=1, gamma=0,\n",
       "       importance_type='gain', learning_rate=0.1, max_delta_step=0,\n",
       "       max_depth=8, min_child_weight=1, missing=None, n_estimators=100,\n",
       "       n_jobs=5, nthread=None, objective='reg:linear', random_state=0,\n",
       "       reg_alpha=0, reg_lambda=1, scale_pos_weight=1, seed=None,\n",
       "       silent=None, subsample=1, verbosity=1)"
      ]
     },
     "execution_count": 43,
     "metadata": {},
     "output_type": "execute_result"
    }
   ],
   "source": [
    "best_model"
   ]
  },
  {
   "cell_type": "code",
   "execution_count": 29,
   "metadata": {
    "collapsed": true
   },
   "outputs": [],
   "source": [
    "def rmspe(y_true, y_pred):\n",
    "    return np.sqrt(np.mean(np.square(((y_true - y_pred) / y_true)), axis=0))\n"
   ]
  },
  {
   "cell_type": "code",
   "execution_count": 44,
   "metadata": {
    "collapsed": false
   },
   "outputs": [
    {
     "name": "stdout",
     "output_type": "stream",
     "text": [
      "rmspe of training set is: 0.0940\n"
     ]
    }
   ],
   "source": [
    "train_y_true = train_set['Sales'].values\n",
    "train_y_pred = np.exp(best_model.predict(train_set[xgboost_feature_list].values))\n",
    "\n",
    "train_rmspe = rmspe(train_y_true, train_y_pred)\n",
    "print(\"rmspe of training set is: {0:.4f}\".format(train_rmspe))"
   ]
  },
  {
   "cell_type": "code",
   "execution_count": 45,
   "metadata": {
    "collapsed": false
   },
   "outputs": [
    {
     "name": "stdout",
     "output_type": "stream",
     "text": [
      "rmspe of val set is: 0.1001\n"
     ]
    }
   ],
   "source": [
    "val_X = val_set[xgboost_feature_list].values\n",
    "val_y_pred = np.exp(best_model.predict(val_X))\n",
    "val_y_true = val_set['Sales'].values\n",
    "\n",
    "val_rmspe = rmspe(val_y_true, val_y_pred)\n",
    "\n",
    "print(\"rmspe of val set is: {0:.4f}\".format(val_rmspe))"
   ]
  },
  {
   "cell_type": "code",
   "execution_count": 46,
   "metadata": {
    "collapsed": false
   },
   "outputs": [
    {
     "name": "stdout",
     "output_type": "stream",
     "text": [
      "f0: DayOfWeek\n",
      "f1: Promo\n",
      "f2: StateHoliday\n",
      "f3: SchoolHoliday\n",
      "f4: StoreType\n",
      "f5: Assortment\n",
      "f6: MonthAfterCompetition\n",
      "f7: CompetitionDistance\n",
      "f8: store_avg_sales_3m\n",
      "f9: store_avg_sales_6m\n",
      "f10: store_avg_sales_1y\n",
      "f11: store_avg_customers_3m\n",
      "f12: store_avg_customers_6m\n",
      "f13: store_avg_customers_1y\n",
      "f14: store_day_avg_sales_3m\n",
      "f15: store_day_avg_sales_6m\n",
      "f16: store_day_avg_sales_1y\n",
      "f17: store_day_avg_customers_3m\n",
      "f18: store_day_avg_customers_6m\n",
      "f19: store_day_avg_customers_1y\n",
      "f20: promo2Type\n",
      "f21: sales_per_customer\n"
     ]
    }
   ],
   "source": [
    "i = 0\n",
    "for feature in xgboost_feature_list:\n",
    "    print(\"f{}: {}\".format(i, feature))\n",
    "    i += 1"
   ]
  },
  {
   "cell_type": "code",
   "execution_count": 47,
   "metadata": {
    "collapsed": false
   },
   "outputs": [
    {
     "data": {
      "text/plain": [
       "<matplotlib.axes._subplots.AxesSubplot at 0x11b5b6908>"
      ]
     },
     "execution_count": 47,
     "metadata": {},
     "output_type": "execute_result"
    },
    {
     "data": {
      "image/png": "[encoded data removed]",
      "text/plain": [
       "<matplotlib.figure.Figure at 0x1106ceb70>"
      ]
     },
     "metadata": {},
     "output_type": "display_data"
    }
   ],
   "source": [
    "%matplotlib inline\n",
    "\n",
    "xgb.plot_importance(best_model)"
   ]
  },
  {
   "cell_type": "markdown",
   "metadata": {},
   "source": [
    "### Test Set Predict"
   ]
  },
  {
   "cell_type": "code",
   "execution_count": 51,
   "metadata": {
    "collapsed": false
   },
   "outputs": [
    {
     "data": {
      "text/plain": [
       "Timestamp('2015-07-31 00:00:00')"
      ]
     },
     "execution_count": 51,
     "metadata": {},
     "output_type": "execute_result"
    }
   ],
   "source": [
    "train_df['Date'].max()"
   ]
  },
  {
   "cell_type": "code",
   "execution_count": 52,
   "metadata": {
    "collapsed": false
   },
   "outputs": [
    {
     "data": {
      "text/plain": [
       "'2015-08-01'"
      ]
     },
     "execution_count": 52,
     "metadata": {},
     "output_type": "execute_result"
    }
   ],
   "source": [
    "test_df['Date'].min()"
   ]
  },
  {
   "cell_type": "code",
   "execution_count": 53,
   "metadata": {
    "collapsed": true
   },
   "outputs": [],
   "source": [
    "test_train_set_end_date = datetime.strptime('2015-07-31', '%Y-%m-%d')\n",
    "\n",
    "test_feature_df = extract_train_feature_set(train_df, test_train_set_end_date)\n",
    "test_avg_sales_3m = feature_last_3m_avg_sales(feature_df, test_train_set_end_date)\n",
    "test_avg_sales_6m = feature_last_6m_avg_sales(feature_df, test_train_set_end_date)\n",
    "test_avg_sales_1y = feature_last_1y_avg_sales(feature_df, test_train_set_end_date)\n",
    "test_avg_customers_3m = feature_last_3m_avg_customers(feature_df, test_train_set_end_date)\n",
    "test_avg_customers_6m = feature_last_6m_avg_customers(feature_df, test_train_set_end_date)\n",
    "test_avg_customers_1y = feature_last_1y_avg_customers(feature_df, test_train_set_end_date)\n",
    "test_store_day_sales_3m = feature_last_3m_store_day_sales(feature_df, test_train_set_end_date)\n",
    "test_store_day_sales_6m = feature_last_6m_store_day_sales(feature_df, test_train_set_end_date)\n",
    "test_store_day_sales_1y = feature_last_1y_store_day_sales(feature_df, test_train_set_end_date)\n",
    "test_store_day_customers_3m = feature_last_3m_store_day_customers(feature_df, test_train_set_end_date)\n",
    "test_store_day_customers_6m = feature_last_6m_store_day_customers(feature_df, test_train_set_end_date)\n",
    "test_store_day_customers_1y = feature_last_1y_store_day_customers(feature_df, test_train_set_end_date)\n",
    "test_sales_per_customer = feature_sales_per_customer(feature_df)\n"
   ]
  },
  {
   "cell_type": "code",
   "execution_count": 54,
   "metadata": {
    "collapsed": true
   },
   "outputs": [],
   "source": [
    "def feature_process(data):\n",
    "    data = data.merge(store_df, on='Store', how='left')\n",
    "    \n",
    "    data['Date'] = pd.to_datetime(data['Date'])\n",
    "    data['Year'] = data['Date'].dt.year\n",
    "    data['Month'] = data['Date'].dt.month\n",
    "    data['CompetitionOpenMonth'] = data[['CompetitionOpenSinceYear', 'CompetitionOpenSinceMonth']].apply(constructDatetime, axis=1)\n",
    "    data['MonthAfterCompetition'] = data[['Date', 'CompetitionOpenMonth']].apply(calculateMonthDiff, axis=1)\n",
    "    data['WeekOfYear'] = data['Date'].apply(lambda x: x.isocalendar()[1]) \n",
    "    data['MonthName'] = data['Date'].apply(lambda x: x.strftime('%b'))\n",
    "    data['promo2Type'] = data[['Promo2', 'Promo2SinceWeek', 'Promo2SinceYear', 'PromoInterval', 'Year', 'WeekOfYear', 'MonthName']].apply(storePromo2Type, axis = 1)\n",
    "\n",
    "    data = data.merge(test_avg_sales_3m, how='left', on='Store')\n",
    "    data = data.merge(test_avg_sales_6m, how='left', on='Store')\n",
    "    data = data.merge(test_avg_sales_1y, how='left', on='Store')\n",
    "    data = data.merge(test_avg_customers_3m, how='left', on='Store')\n",
    "    data = data.merge(test_avg_customers_6m, how='left', on='Store')\n",
    "    data = data.merge(test_avg_customers_1y, how='left', on='Store')\n",
    "    data = data.merge(test_store_day_sales_3m, how='left', on=['Store', 'DayOfWeek', 'Promo', 'StateHoliday'])\n",
    "    data = data.merge(test_store_day_sales_6m, how='left', on=['Store', 'DayOfWeek', 'Promo', 'StateHoliday'])\n",
    "    data = data.merge(test_store_day_sales_1y, how='left', on=['Store', 'DayOfWeek', 'Promo', 'StateHoliday'])\n",
    "    data = data.merge(test_store_day_customers_3m, how='left', on=['Store', 'DayOfWeek', 'Promo', 'StateHoliday'])\n",
    "    data = data.merge(test_store_day_customers_6m, how='left', on=['Store', 'DayOfWeek', 'Promo', 'StateHoliday'])\n",
    "    data = data.merge(test_store_day_customers_1y, how='left', on=['Store', 'DayOfWeek', 'Promo', 'StateHoliday'])\n",
    "    data = data.merge(test_sales_per_customer, how='left', on='Store')\n",
    "    \n",
    "    for column_name in categorical_columns:\n",
    "        data[column_name] = data[column_name].astype('category')\n",
    "\n",
    "    cat_columns = data.select_dtypes(['category']).columns\n",
    "    data[cat_columns] = data[cat_columns].apply(lambda x: x.cat.codes)\n",
    "    \n",
    "    return data"
   ]
  },
  {
   "cell_type": "code",
   "execution_count": 55,
   "metadata": {
    "collapsed": false
   },
   "outputs": [],
   "source": [
    "test_set = feature_process(test_df)\n",
    "\n",
    "test_X = test_set[xgboost_feature_list].values\n",
    "y_pred = np.exp(best_model.predict(test_X))\n",
    "test_df['Sales'] = y_pred"
   ]
  },
  {
   "cell_type": "code",
   "execution_count": 56,
   "metadata": {
    "collapsed": true
   },
   "outputs": [],
   "source": [
    "test_df[['Id', 'Sales']].to_csv('kaggle_xgboost_v2_7.csv', index=False)"
   ]
  },
  {
   "cell_type": "code",
   "execution_count": null,
   "metadata": {
    "collapsed": true
   },
   "outputs": [],
   "source": []
  }
 ],
 "metadata": {
  "kernelspec": {
   "display_name": "Python 3",
   "language": "python",
   "name": "python3"
  },
  "language_info": {
   "codemirror_mode": {
    "name": "ipython",
    "version": 3
   },
   "file_extension": ".py",
   "mimetype": "text/x-python",
   "name": "python",
   "nbconvert_exporter": "python",
   "pygments_lexer": "ipython3",
   "version": "3.6.0"
  }
 },
 "nbformat": 4,
 "nbformat_minor": 2
}
